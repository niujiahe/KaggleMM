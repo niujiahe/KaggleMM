{
 "cells": [
  {
   "cell_type": "code",
   "execution_count": 31,
   "metadata": {
    "scrolled": true
   },
   "outputs": [],
   "source": [
    "import pandas as pd\n",
    "from sklearn.preprocessing import  MinMaxScaler\n",
    "from deepctr.models import DCN\n",
    "from deepctr import SingleFeat"
   ]
  },
  {
   "cell_type": "code",
   "execution_count": 2,
   "metadata": {},
   "outputs": [],
   "source": [
    "import pandas as pd\n",
    "import numpy as np\n",
    "import lightgbm as lgb\n",
    "#import xgboost as xgb\n",
    "from scipy.sparse import vstack, csr_matrix, save_npz, load_npz\n",
    "from sklearn.preprocessing import LabelEncoder, OneHotEncoder\n",
    "from sklearn.model_selection import StratifiedKFold\n",
    "import gc\n",
    "gc.enable()\n"
   ]
  },
  {
   "cell_type": "code",
   "execution_count": 3,
   "metadata": {
    "scrolled": true
   },
   "outputs": [
    {
     "name": "stdout",
     "output_type": "stream",
     "text": [
      "Download Train and Test Data.\n",
      "\n"
     ]
    }
   ],
   "source": [
    "train = pd.read_csv('deepctr_train.csv')\n",
    "test = pd.read_csv('deepctr_test.csv')\n",
    "\n",
    "\n",
    "dtypes = {\n",
    "        'MachineIdentifier':                                    'category',\n",
    "        'ProductName':                                          'category',\n",
    "        'EngineVersion':                                        'category',\n",
    "        'AppVersion':                                           'category',\n",
    "        'AvSigVersion':                                         'category',\n",
    "        'IsBeta':                                               'int8',\n",
    "        'RtpStateBitfield':                                     'float16',\n",
    "        'IsSxsPassiveMode':                                     'int8',\n",
    "        'DefaultBrowsersIdentifier':                            'float16',\n",
    "        'AVProductStatesIdentifier':                            'float32',\n",
    "        'AVProductsInstalled':                                  'float16',\n",
    "        'AVProductsEnabled':                                    'float16',\n",
    "        'HasTpm':                                               'int8',\n",
    "        'CountryIdentifier':                                    'int16',\n",
    "        'CityIdentifier':                                       'float32',\n",
    "        'OrganizationIdentifier':                               'float16',\n",
    "        'GeoNameIdentifier':                                    'float16',\n",
    "        'LocaleEnglishNameIdentifier':                          'int8',\n",
    "        'Platform':                                             'category',\n",
    "        'Processor':                                            'category',\n",
    "        'OsVer':                                                'category',\n",
    "        'OsBuild':                                              'int16',\n",
    "        'OsSuite':                                              'int16',\n",
    "        'OsPlatformSubRelease':                                 'category',\n",
    "        'OsBuildLab':                                           'category',\n",
    "        'SkuEdition':                                           'category',\n",
    "        'IsProtected':                                          'float16',\n",
    "        'AutoSampleOptIn':                                      'int8',\n",
    "        'PuaMode':                                              'category',\n",
    "        'SMode':                                                'float16',\n",
    "        'IeVerIdentifier':                                      'float16',\n",
    "        'SmartScreen':                                          'category',\n",
    "        'Firewall':                                             'float16',\n",
    "        'UacLuaenable':                                         'float32',\n",
    "        'Census_MDC2FormFactor':                                'category',\n",
    "        'Census_DeviceFamily':                                  'category',\n",
    "        'Census_OEMNameIdentifier':                             'float16',\n",
    "        'Census_OEMModelIdentifier':                            'float32',\n",
    "        'Census_ProcessorCoreCount':                            'float16',\n",
    "        'Census_ProcessorManufacturerIdentifier':               'float16',\n",
    "        'Census_ProcessorModelIdentifier':                      'float16',\n",
    "        'Census_ProcessorClass':                                'category',\n",
    "        'Census_PrimaryDiskTotalCapacity':                      'float32',\n",
    "        'Census_PrimaryDiskTypeName':                           'category',\n",
    "        'Census_SystemVolumeTotalCapacity':                     'float32',\n",
    "        'Census_HasOpticalDiskDrive':                           'int8',\n",
    "        'Census_TotalPhysicalRAM':                              'float32',\n",
    "        'Census_ChassisTypeName':                               'category',\n",
    "        'Census_InternalPrimaryDiagonalDisplaySizeInInches':    'float16',\n",
    "        'Census_InternalPrimaryDisplayResolutionHorizontal':    'float16',\n",
    "        'Census_InternalPrimaryDisplayResolutionVertical':      'float16',\n",
    "        'Census_PowerPlatformRoleName':                         'category',\n",
    "        'Census_InternalBatteryType':                           'category',\n",
    "        'Census_InternalBatteryNumberOfCharges':                'float32',\n",
    "        'Census_OSVersion':                                     'category',\n",
    "        'Census_OSArchitecture':                                'category',\n",
    "        'Census_OSBranch':                                      'category',\n",
    "        'Census_OSBuildNumber':                                 'int16',\n",
    "        'Census_OSBuildRevision':                               'int32',\n",
    "        'Census_OSEdition':                                     'category',\n",
    "        'Census_OSSkuName':                                     'category',\n",
    "        'Census_OSInstallTypeName':                             'category',\n",
    "        'Census_OSInstallLanguageIdentifier':                   'float16',\n",
    "        'Census_OSUILocaleIdentifier':                          'int16',\n",
    "        'Census_OSWUAutoUpdateOptionsName':                     'category',\n",
    "        'Census_IsPortableOperatingSystem':                     'int8',\n",
    "        'Census_GenuineStateName':                              'category',\n",
    "        'Census_ActivationChannel':                             'category',\n",
    "        'Census_IsFlightingInternal':                           'float16',\n",
    "        'Census_IsFlightsDisabled':                             'float16',\n",
    "        'Census_FlightRing':                                    'category',\n",
    "        'Census_ThresholdOptIn':                                'float16',\n",
    "        'Census_FirmwareManufacturerIdentifier':                'float16',\n",
    "        'Census_FirmwareVersionIdentifier':                     'float32',\n",
    "        'Census_IsSecureBootEnabled':                           'int8',\n",
    "        'Census_IsWIMBootEnabled':                              'float16',\n",
    "        'Census_IsVirtualDevice':                               'float16',\n",
    "        'Census_IsTouchEnabled':                                'int8',\n",
    "        'Census_IsPenCapable':                                  'int8',\n",
    "        'Census_IsAlwaysOnAlwaysConnectedCapable':              'float16',\n",
    "        'Wdft_IsGamer':                                         'float16',\n",
    "        'Wdft_RegionIdentifier':                                'float16',\n",
    "        'HasDetections':                                        'int8'\n",
    "        }\n",
    "\n",
    "print('Download Train and Test Data.\\n')\n",
    "train2 = pd.read_csv('./data/train.csv', dtype=dtypes, low_memory=True)\n",
    "#test2  = pd.read_csv('./data/test.csv',  dtype=dtypes, low_memory=True)\n",
    "#test2['HasDetections']=[0]*len(test2)\n",
    "y_train = np.array(train2['HasDetections'])\n"
   ]
  },
  {
   "cell_type": "code",
   "execution_count": 4,
   "metadata": {
    "scrolled": true
   },
   "outputs": [
    {
     "name": "stdout",
     "output_type": "stream",
     "text": [
      "(16774736, 81)\n",
      "(16774736, 162)\n"
     ]
    },
    {
     "data": {
      "text/plain": [
       "229425"
      ]
     },
     "execution_count": 4,
     "metadata": {},
     "output_type": "execute_result"
    }
   ],
   "source": [
    "data=pd.concat([train,test])\n",
    "sparse_features = train.columns\n",
    "dense_features = sparse_features+['count']\n",
    "\n",
    "#sparse_features = data.columns\n",
    "#dense_features = []\n",
    "\n",
    "\n",
    "del train\n",
    "del test\n",
    "\n",
    "print(data.shape)\n",
    "for col in data.columns:\n",
    "    group_by_col=data.groupby([col]).size()\n",
    "    df_group_by_col = pd.DataFrame(group_by_col,columns=[col+'count'])\n",
    "    df_group_by_col = df_group_by_col.reset_index()\n",
    "    data = pd.merge(data,df_group_by_col,on=col,how='left')\n",
    "\n",
    "\n",
    "#mms = MinMaxScaler(feature_range=(0, 1))\n",
    "#data[dense_features] = mms.fit_transform(data[dense_features])\n",
    "\n",
    "    \n",
    "print(data.shape)\n",
    "train = data[:8921483]\n",
    "test = data[-7853253:]\n",
    "\n",
    "del train2\n",
    "#del data\n",
    "gc.collect()"
   ]
  },
  {
   "cell_type": "code",
   "execution_count": 5,
   "metadata": {
    "scrolled": true
   },
   "outputs": [
    {
     "name": "stdout",
     "output_type": "stream",
     "text": [
      "xDeepFM\n",
      "\n"
     ]
    }
   ],
   "source": [
    "#data=pd.concat([train,test])\n",
    "print('xDeepFM\\n')\n",
    "\n",
    "# 2.count #unique features for each sparse field,and record dense feature field name\n",
    "sparse_feature_list = [SingleFeat(feat, data[feat].nunique())\n",
    "                        for feat in sparse_features]\n",
    "dense_feature_list = [SingleFeat(feat, 0)\n",
    "                        for feat in dense_features]\n",
    "del data\n",
    "gc.collect()\n",
    "# 3.generate input data for model\n",
    "test_model_input = [test[feat.name].values for feat in sparse_feature_list] + \\\n",
    "    [test[feat.name].values for feat in dense_feature_list]"
   ]
  },
  {
   "cell_type": "code",
   "execution_count": 6,
   "metadata": {},
   "outputs": [
    {
     "data": {
      "text/html": [
       "<div>\n",
       "<style scoped>\n",
       "    .dataframe tbody tr th:only-of-type {\n",
       "        vertical-align: middle;\n",
       "    }\n",
       "\n",
       "    .dataframe tbody tr th {\n",
       "        vertical-align: top;\n",
       "    }\n",
       "\n",
       "    .dataframe thead th {\n",
       "        text-align: right;\n",
       "    }\n",
       "</style>\n",
       "<table border=\"1\" class=\"dataframe\">\n",
       "  <thead>\n",
       "    <tr style=\"text-align: right;\">\n",
       "      <th></th>\n",
       "      <th>ProductName</th>\n",
       "      <th>EngineVersion</th>\n",
       "      <th>AppVersion</th>\n",
       "      <th>AvSigVersion</th>\n",
       "      <th>IsBeta</th>\n",
       "      <th>RtpStateBitfield</th>\n",
       "      <th>IsSxsPassiveMode</th>\n",
       "      <th>DefaultBrowsersIdentifier</th>\n",
       "      <th>AVProductStatesIdentifier</th>\n",
       "      <th>AVProductsInstalled</th>\n",
       "      <th>...</th>\n",
       "      <th>Census_FirmwareManufacturerIdentifiercount</th>\n",
       "      <th>Census_FirmwareVersionIdentifiercount</th>\n",
       "      <th>Census_IsSecureBootEnabledcount</th>\n",
       "      <th>Census_IsWIMBootEnabledcount</th>\n",
       "      <th>Census_IsVirtualDevicecount</th>\n",
       "      <th>Census_IsTouchEnabledcount</th>\n",
       "      <th>Census_IsPenCapablecount</th>\n",
       "      <th>Census_IsAlwaysOnAlwaysConnectedCapablecount</th>\n",
       "      <th>Wdft_IsGamercount</th>\n",
       "      <th>Wdft_RegionIdentifiercount</th>\n",
       "    </tr>\n",
       "  </thead>\n",
       "  <tbody>\n",
       "    <tr>\n",
       "      <th>0</th>\n",
       "      <td>2</td>\n",
       "      <td>0</td>\n",
       "      <td>0</td>\n",
       "      <td>0</td>\n",
       "      <td>1</td>\n",
       "      <td>5</td>\n",
       "      <td>0</td>\n",
       "      <td>37</td>\n",
       "      <td>139</td>\n",
       "      <td>1</td>\n",
       "      <td>...</td>\n",
       "      <td>2300471</td>\n",
       "      <td>4885481</td>\n",
       "      <td>8894050</td>\n",
       "      <td>11182410</td>\n",
       "      <td>16614168</td>\n",
       "      <td>14725738</td>\n",
       "      <td>16137100</td>\n",
       "      <td>15682103</td>\n",
       "      <td>11476755</td>\n",
       "      <td>3251921</td>\n",
       "    </tr>\n",
       "    <tr>\n",
       "      <th>1</th>\n",
       "      <td>2</td>\n",
       "      <td>21</td>\n",
       "      <td>17</td>\n",
       "      <td>8</td>\n",
       "      <td>1</td>\n",
       "      <td>5</td>\n",
       "      <td>0</td>\n",
       "      <td>37</td>\n",
       "      <td>139</td>\n",
       "      <td>1</td>\n",
       "      <td>...</td>\n",
       "      <td>2300471</td>\n",
       "      <td>4885481</td>\n",
       "      <td>8894050</td>\n",
       "      <td>11182410</td>\n",
       "      <td>16614168</td>\n",
       "      <td>14725738</td>\n",
       "      <td>16137100</td>\n",
       "      <td>15682103</td>\n",
       "      <td>11476755</td>\n",
       "      <td>504963</td>\n",
       "    </tr>\n",
       "    <tr>\n",
       "      <th>2</th>\n",
       "      <td>2</td>\n",
       "      <td>0</td>\n",
       "      <td>0</td>\n",
       "      <td>0</td>\n",
       "      <td>1</td>\n",
       "      <td>5</td>\n",
       "      <td>0</td>\n",
       "      <td>37</td>\n",
       "      <td>139</td>\n",
       "      <td>1</td>\n",
       "      <td>...</td>\n",
       "      <td>5141158</td>\n",
       "      <td>12904</td>\n",
       "      <td>8894050</td>\n",
       "      <td>11182410</td>\n",
       "      <td>16614168</td>\n",
       "      <td>14725738</td>\n",
       "      <td>16137100</td>\n",
       "      <td>15682103</td>\n",
       "      <td>11476755</td>\n",
       "      <td>2549287</td>\n",
       "    </tr>\n",
       "    <tr>\n",
       "      <th>3</th>\n",
       "      <td>2</td>\n",
       "      <td>0</td>\n",
       "      <td>0</td>\n",
       "      <td>0</td>\n",
       "      <td>1</td>\n",
       "      <td>5</td>\n",
       "      <td>0</td>\n",
       "      <td>37</td>\n",
       "      <td>139</td>\n",
       "      <td>1</td>\n",
       "      <td>...</td>\n",
       "      <td>1789480</td>\n",
       "      <td>61193</td>\n",
       "      <td>8894050</td>\n",
       "      <td>11182410</td>\n",
       "      <td>16614168</td>\n",
       "      <td>14725738</td>\n",
       "      <td>16137100</td>\n",
       "      <td>15682103</td>\n",
       "      <td>11476755</td>\n",
       "      <td>2549287</td>\n",
       "    </tr>\n",
       "    <tr>\n",
       "      <th>4</th>\n",
       "      <td>2</td>\n",
       "      <td>0</td>\n",
       "      <td>0</td>\n",
       "      <td>0</td>\n",
       "      <td>1</td>\n",
       "      <td>5</td>\n",
       "      <td>0</td>\n",
       "      <td>37</td>\n",
       "      <td>139</td>\n",
       "      <td>1</td>\n",
       "      <td>...</td>\n",
       "      <td>1789480</td>\n",
       "      <td>18540</td>\n",
       "      <td>8894050</td>\n",
       "      <td>5592324</td>\n",
       "      <td>16614168</td>\n",
       "      <td>14725738</td>\n",
       "      <td>16137100</td>\n",
       "      <td>15682103</td>\n",
       "      <td>11476755</td>\n",
       "      <td>2341900</td>\n",
       "    </tr>\n",
       "  </tbody>\n",
       "</table>\n",
       "<p>5 rows × 162 columns</p>\n",
       "</div>"
      ],
      "text/plain": [
       "   ProductName  EngineVersion  AppVersion  AvSigVersion  IsBeta  \\\n",
       "0            2              0           0             0       1   \n",
       "1            2             21          17             8       1   \n",
       "2            2              0           0             0       1   \n",
       "3            2              0           0             0       1   \n",
       "4            2              0           0             0       1   \n",
       "\n",
       "   RtpStateBitfield  IsSxsPassiveMode  DefaultBrowsersIdentifier  \\\n",
       "0                 5                 0                         37   \n",
       "1                 5                 0                         37   \n",
       "2                 5                 0                         37   \n",
       "3                 5                 0                         37   \n",
       "4                 5                 0                         37   \n",
       "\n",
       "   AVProductStatesIdentifier  AVProductsInstalled             ...              \\\n",
       "0                        139                    1             ...               \n",
       "1                        139                    1             ...               \n",
       "2                        139                    1             ...               \n",
       "3                        139                    1             ...               \n",
       "4                        139                    1             ...               \n",
       "\n",
       "   Census_FirmwareManufacturerIdentifiercount  \\\n",
       "0                                     2300471   \n",
       "1                                     2300471   \n",
       "2                                     5141158   \n",
       "3                                     1789480   \n",
       "4                                     1789480   \n",
       "\n",
       "   Census_FirmwareVersionIdentifiercount  Census_IsSecureBootEnabledcount  \\\n",
       "0                                4885481                          8894050   \n",
       "1                                4885481                          8894050   \n",
       "2                                  12904                          8894050   \n",
       "3                                  61193                          8894050   \n",
       "4                                  18540                          8894050   \n",
       "\n",
       "   Census_IsWIMBootEnabledcount  Census_IsVirtualDevicecount  \\\n",
       "0                      11182410                     16614168   \n",
       "1                      11182410                     16614168   \n",
       "2                      11182410                     16614168   \n",
       "3                      11182410                     16614168   \n",
       "4                       5592324                     16614168   \n",
       "\n",
       "   Census_IsTouchEnabledcount  Census_IsPenCapablecount  \\\n",
       "0                    14725738                  16137100   \n",
       "1                    14725738                  16137100   \n",
       "2                    14725738                  16137100   \n",
       "3                    14725738                  16137100   \n",
       "4                    14725738                  16137100   \n",
       "\n",
       "   Census_IsAlwaysOnAlwaysConnectedCapablecount  Wdft_IsGamercount  \\\n",
       "0                                      15682103           11476755   \n",
       "1                                      15682103           11476755   \n",
       "2                                      15682103           11476755   \n",
       "3                                      15682103           11476755   \n",
       "4                                      15682103           11476755   \n",
       "\n",
       "   Wdft_RegionIdentifiercount  \n",
       "0                     3251921  \n",
       "1                      504963  \n",
       "2                     2549287  \n",
       "3                     2549287  \n",
       "4                     2341900  \n",
       "\n",
       "[5 rows x 162 columns]"
      ]
     },
     "execution_count": 6,
     "metadata": {},
     "output_type": "execute_result"
    }
   ],
   "source": [
    "train.head()"
   ]
  },
  {
   "cell_type": "code",
   "execution_count": 32,
   "metadata": {
    "scrolled": true
   },
   "outputs": [
    {
     "name": "stdout",
     "output_type": "stream",
     "text": [
      "Train on 7137186 samples, validate on 1784297 samples\n",
      "Epoch 1/4\n",
      "7137186/7137186 [==============================] - 219s 31us/step - loss: 0.6099 - binary_crossentropy: 0.6095 - val_loss: 0.6027 - val_binary_crossentropy: 0.6020\n",
      "Epoch 2/4\n",
      "7137186/7137186 [==============================] - 199s 28us/step - loss: 0.6007 - binary_crossentropy: 0.5997 - val_loss: 0.6003 - val_binary_crossentropy: 0.5992\n",
      "Epoch 3/4\n",
      "7137186/7137186 [==============================] - 199s 28us/step - loss: 0.5973 - binary_crossentropy: 0.5960 - val_loss: 0.6000 - val_binary_crossentropy: 0.5986\n",
      "Epoch 4/4\n",
      "7137186/7137186 [==============================] - 199s 28us/step - loss: 0.5943 - binary_crossentropy: 0.5927 - val_loss: 0.5999 - val_binary_crossentropy: 0.5982\n",
      "Train on 7137186 samples, validate on 1784297 samples\n",
      "Epoch 1/4\n",
      "7137186/7137186 [==============================] - 222s 31us/step - loss: 0.6094 - binary_crossentropy: 0.6090 - val_loss: 0.6033 - val_binary_crossentropy: 0.6026\n",
      "Epoch 2/4\n",
      "7137186/7137186 [==============================] - 200s 28us/step - loss: 0.6007 - binary_crossentropy: 0.5998 - val_loss: 0.6016 - val_binary_crossentropy: 0.6006\n",
      "Epoch 3/4\n",
      "7137186/7137186 [==============================] - 200s 28us/step - loss: 0.5973 - binary_crossentropy: 0.5960 - val_loss: 0.6002 - val_binary_crossentropy: 0.5988\n",
      "Epoch 4/4\n",
      "7137186/7137186 [==============================] - 200s 28us/step - loss: 0.5942 - binary_crossentropy: 0.5926 - val_loss: 0.6000 - val_binary_crossentropy: 0.5984\n",
      "Train on 7137186 samples, validate on 1784297 samples\n",
      "Epoch 1/4\n",
      "7137186/7137186 [==============================] - 224s 31us/step - loss: 0.6097 - binary_crossentropy: 0.6093 - val_loss: 0.6027 - val_binary_crossentropy: 0.6020\n",
      "Epoch 2/4\n",
      "7137186/7137186 [==============================] - 200s 28us/step - loss: 0.6007 - binary_crossentropy: 0.5998 - val_loss: 0.6006 - val_binary_crossentropy: 0.5996\n",
      "Epoch 3/4\n",
      "7137186/7137186 [==============================] - 200s 28us/step - loss: 0.5972 - binary_crossentropy: 0.5959 - val_loss: 0.5994 - val_binary_crossentropy: 0.5980\n",
      "Epoch 4/4\n",
      "7137186/7137186 [==============================] - 200s 28us/step - loss: 0.5943 - binary_crossentropy: 0.5926 - val_loss: 0.5993 - val_binary_crossentropy: 0.5976\n",
      "Train on 7137187 samples, validate on 1784296 samples\n",
      "Epoch 1/4\n",
      "7137187/7137187 [==============================] - 226s 32us/step - loss: 0.6097 - binary_crossentropy: 0.6093 - val_loss: 0.6031 - val_binary_crossentropy: 0.6024\n",
      "Epoch 2/4\n",
      "7137187/7137187 [==============================] - 200s 28us/step - loss: 0.6007 - binary_crossentropy: 0.5997 - val_loss: 0.6018 - val_binary_crossentropy: 0.6007\n",
      "Epoch 3/4\n",
      "7137187/7137187 [==============================] - 200s 28us/step - loss: 0.5972 - binary_crossentropy: 0.5959 - val_loss: 0.5996 - val_binary_crossentropy: 0.5982\n",
      "Epoch 4/4\n",
      "7137187/7137187 [==============================] - 200s 28us/step - loss: 0.5943 - binary_crossentropy: 0.5927 - val_loss: 0.6001 - val_binary_crossentropy: 0.5984\n",
      "Train on 7137187 samples, validate on 1784296 samples\n",
      "Epoch 1/4\n",
      "7137187/7137187 [==============================] - 228s 32us/step - loss: 0.6096 - binary_crossentropy: 0.6092 - val_loss: 0.6035 - val_binary_crossentropy: 0.6028\n",
      "Epoch 2/4\n",
      "7137187/7137187 [==============================] - 201s 28us/step - loss: 0.6005 - binary_crossentropy: 0.5996 - val_loss: 0.6007 - val_binary_crossentropy: 0.5997\n",
      "Epoch 3/4\n",
      "7137187/7137187 [==============================] - 201s 28us/step - loss: 0.5970 - binary_crossentropy: 0.5957 - val_loss: 0.6002 - val_binary_crossentropy: 0.5988\n",
      "Epoch 4/4\n",
      "7137187/7137187 [==============================] - 200s 28us/step - loss: 0.5941 - binary_crossentropy: 0.5924 - val_loss: 0.6001 - val_binary_crossentropy: 0.5984\n",
      "\n",
      "Done.\n"
     ]
    }
   ],
   "source": [
    "from sklearn.model_selection import KFold\n",
    "KF=KFold(n_splits=5) \n",
    "i=0\n",
    "for train_index,test_index in KF.split(train.index):\n",
    "    X_train,X_valid=train.iloc[train_index],train.iloc[test_index]\n",
    "    Y_train,Y_valid=y_train[train_index],y_train[test_index]\n",
    "\n",
    "    # 4.Define Model,train,predict and evaluate\n",
    "    train_model_input = [X_train[feat.name].values for feat in sparse_feature_list] + \\\n",
    "        [X_train[feat.name].values for feat in dense_feature_list]\n",
    "    valid_model_input = [X_valid[feat.name].values for feat in sparse_feature_list] + \\\n",
    "        [X_valid[feat.name].values for feat in dense_feature_list]\n",
    "\n",
    "\n",
    "\n",
    "    model = DCN({\"sparse\": sparse_feature_list,\n",
    "                    \"dense\": dense_feature_list}, hidden_size=(2048,2048),embedding_size=9, final_activation='sigmoid')\n",
    "    model.compile(\"adam\", \"binary_crossentropy\",\n",
    "                     metrics=['binary_crossentropy'], )\n",
    "    history = model.fit(train_model_input, Y_train,batch_size=1024*4, epochs=4, verbose=1, validation_data=(valid_model_input,Y_valid))\n",
    "    pred_ans = model.predict(test_model_input, batch_size=1024*4)\n",
    "    \n",
    "    if i ==0 :\n",
    "         pred_ans = model.predict(test_model_input, batch_size=1024*4)\n",
    "    else:\n",
    "         pred_ans += model.predict(test_model_input, batch_size=1024*4)\n",
    "    i = i+ 1\n",
    "\n",
    "#submission = pd.read_csv('./data/sample_submission.csv')\n",
    "#submission['HasDetections'] = lgb_test_result / counter\n",
    "#submission.to_csv('lgb_submission.csv', index=False)\n",
    "\n",
    "print('\\nDone.')"
   ]
  },
  {
   "cell_type": "code",
   "execution_count": 33,
   "metadata": {},
   "outputs": [],
   "source": [
    "submission = pd.read_csv('./data/sample_submission.csv')\n",
    "submission['HasDetections'] = pred_ans/5\n",
    "submission.to_csv('DCN_Epoch_4_Fold_5_add_count.csv', index=False)"
   ]
  },
  {
   "cell_type": "code",
   "execution_count": 21,
   "metadata": {},
   "outputs": [
    {
     "data": {
      "text/plain": [
       "0.59878"
      ]
     },
     "execution_count": 21,
     "metadata": {},
     "output_type": "execute_result"
    }
   ],
   "source": [
    "#原始的baseline\n",
    "(0.5985 + 0.5989 + 0.5989 + 0.5985 + 0.5991)/5\n",
    "#LB\n",
    "#0.689"
   ]
  },
  {
   "cell_type": "code",
   "execution_count": 22,
   "metadata": {},
   "outputs": [
    {
     "data": {
      "text/plain": [
       "0.5994200000000001"
      ]
     },
     "execution_count": 22,
     "metadata": {},
     "output_type": "execute_result"
    }
   ],
   "source": [
    "#添加了count特征\n",
    "#2048 2048\n",
    "#1024\n",
    "(0.5994 + 0.5988 + 0.5995 + 0.5994 + 0.6000)/5\n",
    "#LB\n",
    "#0.688"
   ]
  },
  {
   "cell_type": "code",
   "execution_count": 26,
   "metadata": {},
   "outputs": [
    {
     "data": {
      "text/plain": [
       "0.59814"
      ]
     },
     "execution_count": 26,
     "metadata": {},
     "output_type": "execute_result"
    }
   ],
   "source": [
    "#全部转为稀疏的\n",
    "(0.5983 + 0.5985 + 0.5978 + 0.5981 + 0.5980)/5"
   ]
  },
  {
   "cell_type": "code",
   "execution_count": 27,
   "metadata": {},
   "outputs": [
    {
     "data": {
      "text/plain": [
       "0.5981400000000001"
      ]
     },
     "execution_count": 27,
     "metadata": {},
     "output_type": "execute_result"
    }
   ],
   "source": [
    "#epoch 4  embding 9\n",
    "(0.5978 + 0.5981 + 0.5979 + 0.5981 + 0.5988)/5"
   ]
  },
  {
   "cell_type": "code",
   "execution_count": 34,
   "metadata": {},
   "outputs": [
    {
     "data": {
      "text/plain": [
       "0.5982"
      ]
     },
     "execution_count": 34,
     "metadata": {},
     "output_type": "execute_result"
    }
   ],
   "source": [
    "(0.5982 + 0.5984 + 0.5976 + 0.5984 + 0.5984)/5"
   ]
  },
  {
   "cell_type": "code",
   "execution_count": null,
   "metadata": {},
   "outputs": [],
   "source": []
  }
 ],
 "metadata": {
  "kernelspec": {
   "display_name": "Python 3",
   "language": "python",
   "name": "python3"
  },
  "language_info": {
   "codemirror_mode": {
    "name": "ipython",
    "version": 3
   },
   "file_extension": ".py",
   "mimetype": "text/x-python",
   "name": "python",
   "nbconvert_exporter": "python",
   "pygments_lexer": "ipython3",
   "version": "3.6.5"
  }
 },
 "nbformat": 4,
 "nbformat_minor": 2
}
