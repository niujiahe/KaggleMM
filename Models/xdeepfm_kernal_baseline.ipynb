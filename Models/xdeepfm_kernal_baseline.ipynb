{
 "cells": [
  {
   "cell_type": "code",
   "execution_count": null,
   "metadata": {},
   "outputs": [],
   "source": [
    "#!git clone https://github.com/guoday/ctrNet-tool.git\n",
    "#!cp -r ctrNet-tool/* ./"
   ]
  },
  {
   "cell_type": "code",
   "execution_count": null,
   "metadata": {},
   "outputs": [],
   "source": [
    "import itertools\n",
    "import ctrNet\n",
    "import pandas as pd\n",
    "import numpy as np\n",
    "import random\n",
    "import tensorflow as tf\n",
    "from src import misc_utils as utils\n",
    "import os\n",
    "import gc\n",
    "random.seed(2019)\n",
    "np.random.seed(2019)"
   ]
  },
  {
   "cell_type": "code",
   "execution_count": null,
   "metadata": {
    "scrolled": true
   },
   "outputs": [],
   "source": [
    "dtypes = {\n",
    "        'MachineIdentifier':                                    'category',\n",
    "        'ProductName':                                          'category',\n",
    "        'EngineVersion':                                        'category',\n",
    "        'AppVersion':                                           'category',\n",
    "        'AvSigVersion':                                         'category',\n",
    "        'IsBeta':                                               'int8',\n",
    "        'RtpStateBitfield':                                     'float16',\n",
    "        'IsSxsPassiveMode':                                     'int8',\n",
    "        'DefaultBrowsersIdentifier':                            'float16',\n",
    "        'AVProductStatesIdentifier':                            'float32',\n",
    "        'AVProductsInstalled':                                  'float16',\n",
    "        'AVProductsEnabled':                                    'float16',\n",
    "        'HasTpm':                                               'int8',\n",
    "        'CountryIdentifier':                                    'int16',\n",
    "        'CityIdentifier':                                       'float32',\n",
    "        'OrganizationIdentifier':                               'float16',\n",
    "        'GeoNameIdentifier':                                    'float16',\n",
    "        'LocaleEnglishNameIdentifier':                          'int8',\n",
    "        'Platform':                                             'category',\n",
    "        'Processor':                                            'category',\n",
    "        'OsVer':                                                'category',\n",
    "        'OsBuild':                                              'int16',\n",
    "        'OsSuite':                                              'int16',\n",
    "        'OsPlatformSubRelease':                                 'category',\n",
    "        'OsBuildLab':                                           'category',\n",
    "        'SkuEdition':                                           'category',\n",
    "        'IsProtected':                                          'float16',\n",
    "        'AutoSampleOptIn':                                      'int8',\n",
    "        'PuaMode':                                              'category',\n",
    "        'SMode':                                                'float16',\n",
    "        'IeVerIdentifier':                                      'float16',\n",
    "        'SmartScreen':                                          'category',\n",
    "        'Firewall':                                             'float16',\n",
    "        'UacLuaenable':                                         'float32',\n",
    "        'Census_MDC2FormFactor':                                'category',\n",
    "        'Census_DeviceFamily':                                  'category',\n",
    "        'Census_OEMNameIdentifier':                             'float16',\n",
    "        'Census_OEMModelIdentifier':                            'float32',\n",
    "        'Census_ProcessorCoreCount':                            'float16',\n",
    "        'Census_ProcessorManufacturerIdentifier':               'float16',\n",
    "        'Census_ProcessorModelIdentifier':                      'float16',\n",
    "        'Census_ProcessorClass':                                'category',\n",
    "        'Census_PrimaryDiskTotalCapacity':                      'float32',\n",
    "        'Census_PrimaryDiskTypeName':                           'category',\n",
    "        'Census_SystemVolumeTotalCapacity':                     'float32',\n",
    "        'Census_HasOpticalDiskDrive':                           'int8',\n",
    "        'Census_TotalPhysicalRAM':                              'float32',\n",
    "        'Census_ChassisTypeName':                               'category',\n",
    "        'Census_InternalPrimaryDiagonalDisplaySizeInInches':    'float16',\n",
    "        'Census_InternalPrimaryDisplayResolutionHorizontal':    'float16',\n",
    "        'Census_InternalPrimaryDisplayResolutionVertical':      'float16',\n",
    "        'Census_PowerPlatformRoleName':                         'category',\n",
    "        'Census_InternalBatteryType':                           'category',\n",
    "        'Census_InternalBatteryNumberOfCharges':                'float32',\n",
    "        'Census_OSVersion':                                     'category',\n",
    "        'Census_OSArchitecture':                                'category',\n",
    "        'Census_OSBranch':                                      'category',\n",
    "        'Census_OSBuildNumber':                                 'int16',\n",
    "        'Census_OSBuildRevision':                               'int32',\n",
    "        'Census_OSEdition':                                     'category',\n",
    "        'Census_OSSkuName':                                     'category',\n",
    "        'Census_OSInstallTypeName':                             'category',\n",
    "        'Census_OSInstallLanguageIdentifier':                   'float16',\n",
    "        'Census_OSUILocaleIdentifier':                          'int16',\n",
    "        'Census_OSWUAutoUpdateOptionsName':                     'category',\n",
    "        'Census_IsPortableOperatingSystem':                     'int8',\n",
    "        'Census_GenuineStateName':                              'category',\n",
    "        'Census_ActivationChannel':                             'category',\n",
    "        'Census_IsFlightingInternal':                           'float16',\n",
    "        'Census_IsFlightsDisabled':                             'float16',\n",
    "        'Census_FlightRing':                                    'category',\n",
    "        'Census_ThresholdOptIn':                                'float16',\n",
    "        'Census_FirmwareManufacturerIdentifier':                'float16',\n",
    "        'Census_FirmwareVersionIdentifier':                     'float32',\n",
    "        'Census_IsSecureBootEnabled':                           'int8',\n",
    "        'Census_IsWIMBootEnabled':                              'float16',\n",
    "        'Census_IsVirtualDevice':                               'float16',\n",
    "        'Census_IsTouchEnabled':                                'int8',\n",
    "        'Census_IsPenCapable':                                  'int8',\n",
    "        'Census_IsAlwaysOnAlwaysConnectedCapable':              'float16',\n",
    "        'Wdft_IsGamer':                                         'float16',\n",
    "        'Wdft_RegionIdentifier':                                'float16',\n",
    "        'HasDetections':                                        'int8'\n",
    "        }\n",
    "print('Loading Train and Test Data.\\n')\n",
    "train = pd.read_csv('./data/train.csv', dtype=dtypes, low_memory=True)\n",
    "train['MachineIdentifier'] = train.index.astype('uint32')\n",
    "test  = pd.read_csv('./data/test.csv',  dtype=dtypes, low_memory=True)\n",
    "test['MachineIdentifier']  = test.index.astype('uint32')\n",
    "test['HasDetections']=[0]*len(test)"
   ]
  },
  {
   "cell_type": "code",
   "execution_count": null,
   "metadata": {},
   "outputs": [],
   "source": [
    "def make_bucket(data,num=10):\n",
    "    data.sort()\n",
    "    bins=[]\n",
    "    for i in range(num):\n",
    "        bins.append(data[int(len(data)*(i+1)//num)-1])\n",
    "    return bins\n",
    "float_features=['Census_SystemVolumeTotalCapacity','Census_PrimaryDiskTotalCapacity']\n",
    "for f in float_features:\n",
    "    train[f]=train[f].fillna(1e10)\n",
    "    test[f]=test[f].fillna(1e10)\n",
    "    data=list(train[f])+list(test[f])\n",
    "    bins=make_bucket(data,num=50)\n",
    "    train[f]=np.digitize(train[f],bins=bins)\n",
    "    test[f]=np.digitize(test[f],bins=bins)\n",
    "    \n",
    "features=train.columns.tolist()[1:-1]"
   ]
  },
  {
   "cell_type": "code",
   "execution_count": null,
   "metadata": {},
   "outputs": [],
   "source": [
    "data=pd.concat([train,test])\n",
    "\n",
    "del train\n",
    "del test\n",
    "\n",
    "print(data.shape)\n",
    "\n",
    "#features_col = ['SmartScreen', 'AVProductStatesIdentifier', 'Wdft_IsGamer', \n",
    "#               'Census_OSInstallTypeName','Wdft_RegionIdentifier']\n",
    "#features_col = []\n",
    "\n",
    "#features_col = ['Census_ProcessorCoreCount', 'Wdft_IsGamer', 'AppVersion', 'SmartScreen','EngineVersion','AVProductStatesIdentifier']\n",
    "\n",
    "#for cols in itertools.permutations(features_col, 2):\n",
    "#    name1 = cols[0]\n",
    "#    name2 = cols[1]\n",
    "#    #属性1构建\n",
    "#    group_by_col=data.groupby([name1]).size()\n",
    "#    df_group_by_col = pd.DataFrame(group_by_col,columns=[name1 + 'count'])\n",
    "#    data = pd.merge(data,df_group_by_col,on=name1,how='left')\n",
    "    \n",
    "    #属性2构建\n",
    "#    group_by_col2=data.groupby([name1,name2]).size()\n",
    "#    df_group_by_col2 = pd.DataFrame(group_by_col2,columns=[name1 + name2 +'count'])\n",
    "#    data = pd.merge(data,df_group_by_col2,on=[name1,name2],how='left')\n",
    "    \n",
    "    #计算比例\n",
    "#    data[name1+name2+'rate'] = data[name1 + name2 +'count'] / data[name1 + 'count']\n",
    "#    del data[name1 + name2 +'count']\n",
    "#    del data[name1 + 'count']\n",
    "\n",
    "#    print(name1 + name2+\"Done!\")\n",
    "    \n",
    "\n",
    "for cols in features:\n",
    "    #属性1构建\n",
    "    group_by_col=data.groupby([cols]).size()\n",
    "    df_group_by_col = pd.DataFrame(group_by_col,columns=[cols + 'count'])\n",
    "    data = pd.merge(data,df_group_by_col,on=cols,how='left')\n",
    "\n",
    "\n",
    "    print(cols + \"Done!\")\n",
    "\n",
    "#data.fillna(0)   "
   ]
  },
  {
   "cell_type": "code",
   "execution_count": null,
   "metadata": {},
   "outputs": [],
   "source": [
    "print(data.shape)\n",
    "train = data[:8921483]\n",
    "test = data[-7853253:]\n",
    "\n",
    "\n",
    "\n",
    "del data\n",
    "gc.collect()"
   ]
  },
  {
   "cell_type": "code",
   "execution_count": null,
   "metadata": {},
   "outputs": [],
   "source": [
    "#train.to_csv('./data/deepctr_feature_train.csv', index=False)\n",
    "#test.to_csv('./data/deepctr_feature_test.csv', index=False)\n",
    "\n",
    "#train= pd.read_csv('./data/deepctr_feature_train.csv')\n",
    "#test=pd.read_csv('./data/deepctr_feature_test.csv')"
   ]
  },
  {
   "cell_type": "code",
   "execution_count": null,
   "metadata": {},
   "outputs": [],
   "source": [
    "features2 = train.columns\n",
    "features2 = features2.drop('HasDetections')\n",
    "features2 = features2.drop('MachineIdentifier')\n",
    "features=features2.tolist()"
   ]
  },
  {
   "cell_type": "code",
   "execution_count": null,
   "metadata": {},
   "outputs": [],
   "source": [
    "hparam=tf.contrib.training.HParams(\n",
    "            model='xdeepfm',\n",
    "            norm=True,\n",
    "            batch_norm_decay=0.9,\n",
    "            hidden_size=[128,128],\n",
    "            cross_layer_sizes=[128,128,128],\n",
    "            k=8,\n",
    "            hash_ids=int(2e5),\n",
    "            batch_size=1024,\n",
    "            optimizer=\"adam\",\n",
    "            learning_rate=0.001,\n",
    "            num_display_steps=1000,\n",
    "            num_eval_steps=1000,\n",
    "            epoch=1,\n",
    "            metric='auc',\n",
    "            activation=['relu','relu','relu'],\n",
    "            cross_activation='identity',\n",
    "            init_method='uniform',\n",
    "            init_value=0.1,\n",
    "            feature_nums=len(features),\n",
    "            kfold=5)\n",
    "utils.print_hparams(hparam)"
   ]
  },
  {
   "cell_type": "code",
   "execution_count": null,
   "metadata": {
    "scrolled": true
   },
   "outputs": [],
   "source": [
    "index=set(range(train.shape[0]))\n",
    "K_fold=[]\n",
    "for i in range(hparam.kfold):\n",
    "    if i == hparam.kfold-1:\n",
    "        tmp=index\n",
    "    else:\n",
    "        tmp=random.sample(index,int(1.0/hparam.kfold*train.shape[0]))\n",
    "    index=index-set(tmp)\n",
    "    print(\"Number:\",len(tmp))\n",
    "    K_fold.append(tmp)\n",
    "    \n",
    "\n",
    "for i in range(hparam.kfold):\n",
    "    print(\"Fold\",i)\n",
    "    dev_index=K_fold[i]\n",
    "    dev_index=random.sample(dev_index,int(0.1*len(dev_index)))\n",
    "    train_index=[]\n",
    "    for j in range(hparam.kfold):\n",
    "        if j!=i:\n",
    "            train_index+=K_fold[j]\n",
    "    model=ctrNet.build_model(hparam)\n",
    "    model.train(train_data=(train.iloc[train_index][features],train.iloc[train_index]['HasDetections']),\\\n",
    "                dev_data=(train.iloc[dev_index][features],train.iloc[dev_index]['HasDetections']))\n",
    "    print(\"Training Done! Inference...\")\n",
    "    if i==0:\n",
    "        preds=model.infer(dev_data=(test[features],test['HasDetections']))/hparam.kfold\n",
    "    else:\n",
    "        preds+=model.infer(dev_data=(test[features],test['HasDetections']))/hparam.kfold"
   ]
  },
  {
   "cell_type": "raw",
   "metadata": {
    "scrolled": false
   },
   "source": [
    "if 5244810 in train.index:\n",
    "    train.loc[5244810,'AvSigVersion'] = '1.273.1144.0'\n",
    "    #train['AvSigVersion'].cat.remove_categories('1.2&#x17;3.1144.0',inplace=True)\n",
    "\n",
    "train['AvSigVersion2'] = train['AvSigVersion'].map(lambda x: np.int(x.split('.')[1]))\n",
    "df_trainC = train[ train['AvSigVersion2']<275 ]\n",
    "df_trainD = train[ train['AvSigVersion2']>=275 ]\n",
    "model=ctrNet.build_model(hparam)\n",
    "model.train(train_data=(df_trainC[features],df_trainC['HasDetections']),\\\n",
    "            dev_data=(df_trainD[features],df_trainD['HasDetections']))\n",
    "print(\"Training Done! Inference...\")\n",
    "preds=model.infer(dev_data=(test[features],test['HasDetections']))"
   ]
  },
  {
   "cell_type": "code",
   "execution_count": null,
   "metadata": {},
   "outputs": [],
   "source": [
    "submission = pd.read_csv('./data/sample_submission.csv')\n",
    "submission['HasDetections'] = preds\n",
    "print(submission['HasDetections'].head())\n",
    "#submission.to_csv('./ans_file/xdeepfm_submission_0.7394044.csv', index=False)"
   ]
  },
  {
   "cell_type": "code",
   "execution_count": null,
   "metadata": {},
   "outputs": [],
   "source": []
  },
  {
   "cell_type": "code",
   "execution_count": null,
   "metadata": {},
   "outputs": [],
   "source": [
    "#全部隐藏层改为256 只添加了count特征\n",
    "(0.738969 + 0.741831 + 0.739928+ 0.738415 + 0.737879)/5"
   ]
  },
  {
   "cell_type": "code",
   "execution_count": null,
   "metadata": {},
   "outputs": [],
   "source": [
    "submission.head()"
   ]
  },
  {
   "cell_type": "code",
   "execution_count": null,
   "metadata": {},
   "outputs": [],
   "source": [
    "#全部隐藏层改512 添加了count特征 转换率特征\n",
    "(0.739106 + 0.742034 + 0.741544 + 0.737888 + 0.740738)/5\n",
    "#LB\n",
    "0.687"
   ]
  },
  {
   "cell_type": "code",
   "execution_count": null,
   "metadata": {},
   "outputs": [],
   "source": [
    "#全部隐藏层改256 添加了count特征 转换率特征\n",
    "(0.738753 + 0.742205 + 0.741969 + 0.737900 +  0.740702)/5\n",
    "#LB\n",
    "0.687"
   ]
  },
  {
   "cell_type": "code",
   "execution_count": null,
   "metadata": {},
   "outputs": [],
   "source": [
    "#全部隐藏层改128 添加了count特征 转换率特征\n",
    "(0.738828 + 0.742250 + 0.741969 + 0.737900 +  0.740702)/5\n",
    "#LB\n",
    "#???"
   ]
  },
  {
   "cell_type": "code",
   "execution_count": null,
   "metadata": {},
   "outputs": [],
   "source": [
    "####################################\n",
    "#更换了一波新的特征\n",
    "#features_col = ['SmartScreen', 'AVProductStatesIdentifier', 'Wdft_IsGamer', \n",
    "#               'Census_OSInstallTypeName','Wdft_RegionIdentifier']\n",
    "#0.703432\n",
    "#LB 0.645\n",
    "\n",
    "\n",
    "#不加特征\n",
    "#0.700515\n",
    "\n",
    "#去掉count 添加了比例特征。。。\n",
    "(0.738636+0.735791+0.739816+0.739903 +0.736736)/5\n",
    "#fine...\n",
    "#线上LB 0.687 呵呵哒"
   ]
  },
  {
   "cell_type": "code",
   "execution_count": null,
   "metadata": {},
   "outputs": [],
   "source": [
    "#baseline\n",
    "(0.738510 + 0.737365 + 0.737082 + 0.737889 + 0.738910)/5"
   ]
  },
  {
   "cell_type": "code",
   "execution_count": null,
   "metadata": {},
   "outputs": [],
   "source": [
    "submission.to_csv('./ans_file/xdeepfm.csv', index=False)"
   ]
  },
  {
   "cell_type": "code",
   "execution_count": null,
   "metadata": {},
   "outputs": [],
   "source": []
  }
 ],
 "metadata": {
  "kernelspec": {
   "display_name": "Python 3",
   "language": "python",
   "name": "python3"
  },
  "language_info": {
   "codemirror_mode": {
    "name": "ipython",
    "version": 3
   },
   "file_extension": ".py",
   "mimetype": "text/x-python",
   "name": "python",
   "nbconvert_exporter": "python",
   "pygments_lexer": "ipython3",
   "version": "3.6.5"
  }
 },
 "nbformat": 4,
 "nbformat_minor": 2
}
